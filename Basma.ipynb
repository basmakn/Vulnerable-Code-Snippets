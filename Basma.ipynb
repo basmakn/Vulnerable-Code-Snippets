{
  "nbformat": 4,
  "nbformat_minor": 0,
  "metadata": {
    "colab": {
      "provenance": [],
      "authorship_tag": "ABX9TyPyxRQXv9kAbhAqOuo9K/S/",
      "include_colab_link": true
    },
    "kernelspec": {
      "name": "python3",
      "display_name": "Python 3"
    },
    "language_info": {
      "name": "python"
    }
  },
  "cells": [
    {
      "cell_type": "markdown",
      "metadata": {
        "id": "view-in-github",
        "colab_type": "text"
      },
      "source": [
        "<a href=\"https://colab.research.google.com/github/basmakn/Vulnerable-Code-Snippets/blob/master/Basma.ipynb\" target=\"_parent\"><img src=\"https://colab.research.google.com/assets/colab-badge.svg\" alt=\"Open In Colab\"/></a>"
      ]
    },
    {
      "cell_type": "code",
      "execution_count": 104,
      "metadata": {
        "id": "viyEtRKuVB0H"
      },
      "outputs": [],
      "source": [
        "import pandas as pd\n",
        "import numpy as np\n",
        "import tweepy\n",
        "import csv\n",
        "import datetime\n",
        "import time\n",
        "import requests\n",
        "import json\n",
        "import re\n",
        "\n"
      ]
    },
    {
      "cell_type": "code",
      "source": [
        "searchwords = ['']\n"
      ],
      "metadata": {
        "id": "rgXuFrD0VHgo"
      },
      "execution_count": 105,
      "outputs": []
    },
    {
      "cell_type": "code",
      "source": [
        "#!pip install tweepy"
      ],
      "metadata": {
        "id": "vOd6lUjRVLgN"
      },
      "execution_count": 106,
      "outputs": []
    },
    {
      "cell_type": "code",
      "source": [
        "consumer_key = 'vEcJXtPKjvzzEZuWwEOfmiNSB'\n",
        "consumer_secret = 'ShIyzf7g4oI3ns9GM6KHh9qmD7y4s4bFSZKp9BVO6t7QhJV9Gi'\n",
        "\n",
        "access_token = '1434603293850939393-TgVVOeoNmKdhKwdIaOeWHsd202ZDZK'\n",
        "access_token_secret = 'QOmtwMZfLDYZNDUSZr7oafzAkUoCWnLoxUB5RvZ6OKoLl'\n",
        "\n",
        "\n",
        "#consumer_key = 'HHmwg1DUAUsBzdF5cD6A48xWM'\n",
        "#consumer_secret = '4MtjWtOTrQndoKVFKDAI88PLkjxS1QkCGVWkMZug4t4peszNDF'\n",
        "\n",
        "#access_token = '382148023-97EwRDs697T7gx0xwNtJJBj1LhVLSZBbwcxIFdE0'\n",
        "#access_token_secret = 'mgJrCTHEQIAn4GI13MBzQAw6efeKejxTjaF8xSDgs7kpO'\n",
        "\n",
        "auth = tweepy.OAuthHandler(consumer_key, consumer_secret)\n",
        "auth.set_access_token(access_token, access_token_secret)\n",
        "#api = tweepy.API(auth)\n",
        "api = tweepy.API(auth, wait_on_rate_limit=True)\n",
        "\n",
        "\n",
        "def predict(sentence):\n",
        "    url = \"http://mazajak.inf.ed.ac.uk:8000/api/predict\"\n",
        "    to_sent = {'data': sentence}\n",
        "    data = json.dumps(to_sent,ensure_ascii=False).encode('utf8')\n",
        "    headers = {'content-type': 'application/json'}\n",
        "    # sending get request and saving the response as response object\n",
        "    response = requests.post(url=url, data=data, headers=headers)\n",
        "\n",
        "    prediction = json.loads(response.content)['data']\n",
        "\n",
        "    return prediction\n",
        "\n",
        "def predict_list(sent_lst):\n",
        "    url = \"http://mazajak.inf.ed.ac.uk:8000/api/predict_list\"\n",
        "    to_sent = {'data': sent_lst}\n",
        "    data = json.dumps(to_sent)\n",
        "    headers = {'content-type': 'application/json'}\n",
        "    # sending get request and saving the response as response object\n",
        "    response = requests.post(url=url, data=data, headers=headers)\n",
        "\n",
        "    prediction = json.loads(response.content)['data']\n",
        "\n",
        "    return prediction\n",
        "\n",
        "  \n",
        "\n",
        "# users = ['Hoiresen', 'rw7iu', 'HA__Rj2022']\n",
        "\n",
        "\n",
        "\n",
        "# handle = 'Hoiresen'\n",
        "# user = api.get_user(handle)\n",
        "# num_followers = user.followers_count\n",
        "# num_friends = user.friends_count\n",
        "\n",
        "# for user_name in users:\n",
        "#     user = api.get_user(screen_name = user_name, count=200)\n",
        "#     csvWriter.writerow([user.screen_name, user.id, user.followers_count, user.followers_id, user.friends_id user.description.encode('utf-8')])\n",
        "#     print (user.id)\n",
        "\n",
        "# user = api.get_user(screen_name = user_name, count=10)\n",
        "country = ['الكويت','البحرين', 'الإمارات', 'السعودية', 'عمان','قطر','KSA','KW','qatar','Saudi Arabia','UAE','Bahrain']\n",
        "# for user_name in users:\n",
        "\n",
        "csvFile = open('Erro.csv', 'a', encoding='utf-8-sig',newline='')\n",
        "csvWriter = csv.writer(csvFile)\n",
        "csvWriter.writerow([\"Account_createdAt\",\"Tweet id\",\"Tweet_createdAt\",\"followers\", \"frineds\",\"Num of tweets\",\"Num of retweet\" ,\"Num of likes\",\"Char per tweet\", \"Prediction\",  \"Tweet text\" ])\n",
        "\n",
        " \n",
        "\n",
        "\n",
        "for c in country:\n",
        "    for kw in searchwords:\n",
        "        tweets = api.search(q = kw,  lang = 'ar', count=10, tweet_mode=\"extended\")\n",
        "        for tweet in tweets:\n",
        "            screenname=tweet.user.screen_name\n",
        "            ID = api.get_user(screenname)\n",
        "            status = api.get_status(tweet.id , tweet_mode=\"extended\")\n",
        "            clean_tweet = re.sub(\"[RT]+\\s@[A-Za-z0-9|_|-]+\\s?:\",\"\", status.full_text)\n",
        "            x=clean_tweet\n",
        "            charpertweet=len(x)-x.count(' ')\n",
        "            csvFile = open('Erro.csv', 'a', encoding='utf-8-sig',newline='')\n",
        "            csvWriter.writerow([tweet.user.created_at,tweet.id,tweet.created_at , ID.followers_count,ID.friends_count,ID.statuses_count,tweet.retweet_count,tweet.favorite_count,charpertweet,  predict(clean_tweet),clean_tweet])\n",
        "            # csvWriter.writerow([user.screen_name, user.statuses_count,user.friends_count, num_followers ,tweet.reply_count ,tweet.id, tweet.created_at, tweet.favorite_count, tweet.retweet_count , tweet.text,predict(tweet.text) ])\n",
        "            # print(tweet.id)\n",
        "        csvFile.close()"
      ],
      "metadata": {
        "id": "dEEU8_lwVMUI"
      },
      "execution_count": 107,
      "outputs": []
    },
    {
      "cell_type": "code",
      "source": [
        "df = pd.read_csv(\"Erro.csv\", error_bad_lines=False)\n",
        "df"
      ],
      "metadata": {
        "id": "6UBWajZJVRgb"
      },
      "execution_count": null,
      "outputs": []
    }
  ]
}